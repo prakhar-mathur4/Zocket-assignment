{
 "cells": [
  {
   "cell_type": "code",
   "execution_count": 4,
   "metadata": {},
   "outputs": [],
   "source": [
    "import cv2\n",
    "import pytesseract\n",
    "import re"
   ]
  },
  {
   "cell_type": "code",
   "execution_count": 14,
   "metadata": {},
   "outputs": [],
   "source": [
    "File_path = input(\"Enter Image Path\")\n",
    "img = cv2.imread(File_path, -1)"
   ]
  },
  {
   "cell_type": "code",
   "execution_count": 16,
   "metadata": {},
   "outputs": [],
   "source": [
    "#cv2.imshow(\"imgae\",img)\n",
    "#cv2.waitKey(0) \n",
    "#cv2.destroyAllwindows() \n"
   ]
  },
  {
   "cell_type": "code",
   "execution_count": 6,
   "metadata": {},
   "outputs": [],
   "source": [
    "gray = cv2.cvtColor(img, cv2.COLOR_BGR2GRAY)\n",
    "x, the_1 = cv2.threshold(gray, 200, 255, cv2.THRESH_BINARY_INV) # for black backgrounds - binary - global\n",
    "\n",
    "x, the_2 = cv2.threshold(gray, 100, 255, cv2.THRESH_BINARY) # for white backgrounds - binary - global"
   ]
  },
  {
   "cell_type": "code",
   "execution_count": 7,
   "metadata": {},
   "outputs": [],
   "source": [
    "text_1 = pytesseract.image_to_string(the_1)\n",
    "text_2 = pytesseract.image_to_string(the_2)"
   ]
  },
  {
   "cell_type": "code",
   "execution_count": 8,
   "metadata": {},
   "outputs": [],
   "source": [
    "size_1 = len(text_1)\n",
    "size_2 = len(text_2)\n",
    "if size_1 > size_2:\n",
    "    text_image = text_1\n",
    "else:\n",
    "    text_image = text_2"
   ]
  },
  {
   "cell_type": "code",
   "execution_count": 9,
   "metadata": {},
   "outputs": [],
   "source": [
    "# This is to get each line as a seperate text\n",
    "text_lst = text_image.splitlines() \n",
    "text_lst = [word for word in text_lst if len(word)!= 0]"
   ]
  },
  {
   "cell_type": "code",
   "execution_count": 10,
   "metadata": {},
   "outputs": [
    {
     "data": {
      "text/plain": [
       "['DR. RENU DENTAL CLINIC',\n",
       " 'HEALTHY SMILE-HEALTHY YOU',\n",
       " '43, Shiv Shakti Nagar Gautam Marg, Nirman Nagar, Jaipur',\n",
       " '+91 9650935061; +91 141 358 6324',\n",
       " 'renu@drrenudentalclinic.com',\n",
       " 'www.drrenudentalclinic.com']"
      ]
     },
     "execution_count": 10,
     "metadata": {},
     "output_type": "execute_result"
    }
   ],
   "source": [
    "text_lst"
   ]
  },
  {
   "cell_type": "code",
   "execution_count": 17,
   "metadata": {},
   "outputs": [],
   "source": [
    "def get_full_name(lst):\n",
    "    for data in lst:\n",
    "        full_name = re.match(r\"(?P<first_name>\\w+) (?P<last_name>\\w+)\", data)\n",
    "        if full_name is not None:\n",
    "            return data\n",
    "def get_email(lst):\n",
    "    for data in lst:\n",
    "        mail = re.search(r'[\\w\\.-]+@[\\w\\.-]+', data)\n",
    "        if mail is not None:\n",
    "            return data\n",
    "def get_phone_number(lst):\n",
    "    for data in lst:\n",
    "        for i in range(0, len(data)):\n",
    "            if data[i][0] == \"+\":\n",
    "                return data\n",
    "            elif data[i][0] == \"0\":\n",
    "                return data"
   ]
  },
  {
   "cell_type": "code",
   "execution_count": 18,
   "metadata": {},
   "outputs": [
    {
     "name": "stdout",
     "output_type": "stream",
     "text": [
      "{'Name': 'HEALTHY SMILE-HEALTHY YOU', 'Phone no': '+91 9650935061; +91 141 358 6324', 'Email': 'renu@drrenudentalclinic.com'}\n"
     ]
    }
   ],
   "source": [
    "Name = \"\"\n",
    "Phone_no = \"\"\n",
    "Email = \"\"\n",
    "#===========\n",
    "Final_text = {\"Name\": get_full_name(text_lst),\n",
    "              \"Phone no\" : get_phone_number(text_lst),\n",
    "              \"Email\" : get_email(text_lst),}\n",
    "print(Final_text)"
   ]
  },
  {
   "cell_type": "markdown",
   "metadata": {},
   "source": []
  },
  {
   "cell_type": "code",
   "execution_count": null,
   "metadata": {},
   "outputs": [],
   "source": []
  },
  {
   "cell_type": "code",
   "execution_count": null,
   "metadata": {},
   "outputs": [],
   "source": []
  },
  {
   "cell_type": "code",
   "execution_count": null,
   "metadata": {},
   "outputs": [],
   "source": []
  }
 ],
 "metadata": {
  "kernelspec": {
   "display_name": "Python 3.10.4 64-bit",
   "language": "python",
   "name": "python3"
  },
  "language_info": {
   "codemirror_mode": {
    "name": "ipython",
    "version": 3
   },
   "file_extension": ".py",
   "mimetype": "text/x-python",
   "name": "python",
   "nbconvert_exporter": "python",
   "pygments_lexer": "ipython3",
   "version": "3.10.4"
  },
  "orig_nbformat": 4,
  "vscode": {
   "interpreter": {
    "hash": "d00b6ebd5a0604f99a321975c3f83133d50821ebf01f23dfc7b2d8cf6cfb3dc9"
   }
  }
 },
 "nbformat": 4,
 "nbformat_minor": 2
}
